{
 "cells": [
  {
   "cell_type": "markdown",
   "id": "b61b67a1",
   "metadata": {},
   "source": [
    "# Eigen Decomposition\n",
    "\n",
    "[Eigen decomposition](https://en.wikipedia.org/wiki/Eigendecomposition_of_a_matrix), or spectral decomposition, factorizes a square symmetric matrix into its eigenvalues and eigenvectors, $X = Q \\Lambda Q^T$, where the columns of $Q$ are the eigenvectors and $\\Lambda$ is a diagonal matrix of corresponding eigenvalues. This tutorial looks at how to differentiate the eigenvectors $Q$ with respect to elements of the matrix $X$. We will make the technical assumption that all eigenvalues are simple otherwise well-defined derivatives do not exist.\n",
    "\n",
    "Given a real symmetric matrix $X = X^T \\in \\mathbb{R}^{m \\times m}$, it is well-known that a (unit) eigenvector associated with the largest eigenvalue of $X$ can be found by solving the following equality constrained optimization problem,\n",
    "\n",
    "$$\n",
    "\\begin{align*}\n",
    "\t\\begin{array}{ll}\n",
    "\t\t\\text{maximize (over $u \\in \\mathbb{R}^{m}$)} & u^T X u \\\\\n",
    "\t\t\\text{subject to} & u^T u = 1.\n",
    "\t\\end{array}\n",
    "\\end{align*}\n",
    "$$\n",
    "\n",
    "Since the objective function $f$ is a quadratic form we could equally write it as $f(X, u) = \\frac{1}{2} u^T (X + X^T) u$.\n",
    "\n",
    "The optimality conditions for a solution $y \\in \\mathbb{R}^m$ to the above optimization problem are:\n",
    "\n",
    "$$\n",
    "\\begin{align*}\n",
    "\tX y - \\lambda_{\\text{max}} y &= 0_{m} \\\\\n",
    "\ty^T y &= 1.\n",
    "\\end{align*}\n",
    "$$\n",
    "\n",
    "Indeed, any eigenvalue-eigenvector pair will also satisfy these conditions (replacing $\\lambda_{\\text{max}}$ with the appropriate eigenvalue). We can easily extend the above optimization problem to find all eigenvectors (and eigenvalues) of symmetric input matrix $X$ as,\n",
    "\n",
    "$$\n",
    "\\begin{align*}\n",
    "\t\\begin{array}{ll}\n",
    "\t\t\\text{maximize (over $U \\in \\mathbb{R}^{m \\times m}$)} & \\textbf{tr}(U^T X U) \\\\\n",
    "\t\t\\text{subject to} & U^T U = I_{m \\times m}.\n",
    "\t\\end{array}\n",
    "\\end{align*}\n",
    "$$\n",
    "\n",
    "Note also that the solution is not unique, even if all eigenvalues are simple (i.e., even if $X$ has $m$ distinct eigenvalues). Given a solution $Y$, negating and permuting columns is also a solution. We typically rely on the solver to sort eigenvectors in ascending or descending order corresponding to their eigenvalues. However, the sign ambiguity for each eigenvector is unavoidable."
   ]
  },
  {
   "cell_type": "code",
   "execution_count": 1,
   "id": "75aafed8",
   "metadata": {
    "ExecuteTime": {
     "end_time": "2023-10-31T06:59:10.515615Z",
     "start_time": "2023-10-31T06:59:09.223802Z"
    }
   },
   "outputs": [
    {
     "name": "stdout",
     "output_type": "stream",
     "text": [
      "1.13.0\n",
      "No CUDA\n"
     ]
    }
   ],
   "source": [
    "import torch\n",
    "print(torch.__version__)\n",
    "print(torch.cuda.get_device_name() if torch.cuda.is_available() else \"No CUDA\")\n",
    "\n",
    "torch.manual_seed(22)\n",
    "\n",
    "import sys\n",
    "sys.path.append(\"../\")"
   ]
  },
  {
   "cell_type": "markdown",
   "id": "d344e9e7",
   "metadata": {},
   "source": [
    "### Forward Pass\n",
    "\n",
    "In the forward pass we can use PyTorch's ``torch.linalg.eigh`` function for computing all eigenvalues and eigenvectors of a symmetric matrix, which is equivalent to solving the optimisation problem above. This function can be directly back-propagated but we will develop a faster and more stable version using ideas from deep declarative networks. The following shows the forward pass code."
   ]
  },
  {
   "cell_type": "code",
   "execution_count": 2,
   "id": "3b73abb4",
   "metadata": {
    "ExecuteTime": {
     "end_time": "2023-10-31T06:59:10.531752Z",
     "start_time": "2023-10-31T06:59:10.517801Z"
    }
   },
   "outputs": [],
   "source": [
    "class EigenDecompositionFcn(torch.autograd.Function):\n",
    "    \"\"\"PyTorch autograd function for eigen decomposition of real symmetric matrices.\n",
    "    The input matrix is made symmetric within the forward evaluation function.\"\"\"\n",
    "\n",
    "    eps = 1.0e-9 # tolerance to consider two eigenvalues equal\n",
    "\n",
    "    @staticmethod\n",
    "    def forward(ctx, X):\n",
    "        B, M, N = X.shape\n",
    "        assert N == M\n",
    "\n",
    "        with torch.no_grad():\n",
    "            lmd, Y = torch.linalg.eigh(0.5 * (X + X.transpose(1, 2)))\n",
    "\n",
    "        ctx.save_for_backward(lmd, Y)\n",
    "        return Y"
   ]
  },
  {
   "cell_type": "markdown",
   "id": "0f933f11",
   "metadata": {
    "ExecuteTime": {
     "end_time": "2022-12-06T23:19:16.976852Z",
     "start_time": "2022-12-06T23:19:16.959158Z"
    }
   },
   "source": [
    "### Backward Pass\n",
    "\n",
    "Magnus (1985) gives the differentials as\n",
    "\n",
    "$$\n",
    "\\begin{align*}\n",
    "\t\\text{d} \\lambda_{k} &= y_k^T (\\text{d} X) y_k \\\\\n",
    "\t\\text{d} y_k &= (\\lambda_{k} I - X)^{\\dagger} (\\text{d}{X}) y_k\n",
    "\\end{align*}\n",
    "$$\n",
    "\n",
    "for any simple eigenvalue $\\lambda_k$ and it's corresponding eigenvector $y_k$. Here $(\\lambda_{k} I - X)^{\\dagger}$ is the pseudo-inverse of $(\\lambda_{k} I - X)$, which will be singular since we are zeroing out one of the eigenvalues. So with respect to the $(i,j)$-th component of $X$ we have\n",
    "\n",
    "$$\n",
    "\\begin{align*}\n",
    "\t\\frac{\\text{d} y_k}{\\text{d} X_{ij}} &= -\\frac{1}{2} (X - \\lambda_{k} I)^{\\dagger} (E_{ij} + E_{ji}) y_k\n",
    "\\end{align*}\n",
    "$$\n",
    "\n",
    "where we have used the fact that $X$ is symmetrical.\n",
    "\n",
    "To compute the gradient of the loss with respect to the $(i,j)$-th component of $X$ we need to sum over the contributions from all eigenvectors. Let $v_k^T = \\frac{\\text{L}}{\\text{y_k}} \\in \\mathbb{R}^{1 \\times m}$. Then,\n",
    "\n",
    "$$\n",
    "\\begin{align}\n",
    "\t\\frac{\\text{d} L}{\\text{d} X_{ij}} &= \\sum_{k=1}^{m} v_k^T \\frac{\\text{d} y_k}{\\text{d} X_{ij}} \\\\\n",
    "\t&= -\\frac{1}{2} \\sum_{k=1}^{m} v_k^T (X - \\lambda_{k} I)^{\\dagger} (E_{ij} + E_{ji}) y_k\n",
    "\\end{align}\n",
    "$$\n",
    "\n",
    "Naively implementing this expression by looping over the contribution from each eigenvector is painfully slow. We show an example of such code below."
   ]
  },
  {
   "cell_type": "code",
   "execution_count": 3,
   "id": "f26d0fe7",
   "metadata": {
    "ExecuteTime": {
     "end_time": "2023-10-31T06:59:10.563361Z",
     "start_time": "2023-10-31T06:59:10.539432Z"
    }
   },
   "outputs": [],
   "source": [
    "class EigenDecompositionFcn_v1(torch.autograd.Function):\n",
    "    \"\"\"PyTorch autograd function for eigen decomposition of real symmetric matrices.\n",
    "    The input matrix is made symmetric within the forward evaluation function.\"\"\"\n",
    "\n",
    "    eps = 1.0e-9 # tolerance to consider two eigenvalues equal\n",
    "    \n",
    "    @staticmethod\n",
    "    def backward(ctx, dJdY):\n",
    "        X, lmd, Y = ctx.saved_tensors\n",
    "        B, M, N = dJdY.shape\n",
    "        assert M == N\n",
    "        \n",
    "        dJdX = torch.zeros_like(X)\n",
    "\n",
    "        # loop over eigenvalues\n",
    "        for i in range(K):\n",
    "            L = torch.diag_embed(lmd[:, i].repeat(M, 1).transpose(0, 1))\n",
    "            w = -0.5 * torch.bmm(torch.pinverse(X - L), dJdY[:, :, i].view(B, M, 1)).view(B, M)\n",
    "            dJdX += torch.einsum(\"bi,bj->bij\", w, Y[:, :, i]) + torch.einsum(\"bj,bi->bij\", w, Y[:, :, i])\n",
    "\n",
    "        return dJdX, None"
   ]
  },
  {
   "cell_type": "markdown",
   "id": "029f60a1",
   "metadata": {},
   "source": [
    "### Faster Backwards Pass\n",
    "\n",
    "Recognising that $X$ can be decomposed as $Y \\Lambda Y^T$ for $Y = \\left[y_1 \\, y_2 \\, \\cdots\\, y_m\\right] \\in \\mathbb{R}^{m \\times m}$, which we obtain from the forward pass, we can write the gradient as\n",
    "\n",
    "$$\n",
    "\\begin{align*}\n",
    "\t\\frac{\\text{d} L}{\\text{d} X_{ij}} &= \\sum_{k=1}^{m} v_k^T \\frac{\\text{d} y_k}{\\text{d} X_{ij}} \\\\\n",
    "\t&= -\\frac{1}{2} \\sum_{k=1}^{m} v_k^T Y (\\Lambda - \\lambda_{k} I)^{\\dagger} Y^T (E_{ij} + E_{ji}) y_k\n",
    "\\end{align*}\n",
    "$$\n",
    "\n",
    "and significantly speed up the various pseudo-inverse calculations in the backward pass."
   ]
  },
  {
   "cell_type": "code",
   "execution_count": 4,
   "id": "90f4570a",
   "metadata": {
    "ExecuteTime": {
     "end_time": "2023-10-31T06:59:10.593478Z",
     "start_time": "2023-10-31T06:59:10.567356Z"
    }
   },
   "outputs": [],
   "source": [
    "class EigenDecompositionFcn_v2(torch.autograd.Function):\n",
    "    \"\"\"PyTorch autograd function for eigen decomposition of real symmetric matrices.\n",
    "    The input matrix is made symmetric within the forward evaluation function.\"\"\"\n",
    "\n",
    "    eps = 1.0e-9 # tolerance to consider two eigenvalues equal\n",
    "\n",
    "    @staticmethod\n",
    "    def backward(ctx, dJdY):\n",
    "        lmd, Y = ctx.saved_tensors\n",
    "        B, M, N = dJdY.shape\n",
    "        assert M == N\n",
    "\n",
    "        dJdX = torch.zeros_like(Y)\n",
    "        zero = torch.zeros(1, dtype=lmd.dtype, device=lmd.device)\n",
    "\n",
    "        # loop over eigenvalues\n",
    "        for i in range(K):\n",
    "            L = lmd - lmd[:, i].view(B, 1)\n",
    "            L = torch.where(torch.abs(L) < EigenDecompositionFcn.eps, zero, 1.0 / L)\n",
    "            w = -0.5 * torch.bmm(torch.bmm(Y, L.view(B, M, 1) * Y.transpose(1, 2)), dJdY[:, :, i].view(B, M, 1)).view(B, M)\n",
    "            dJdX += torch.einsum(\"bi,bj->bij\", w, Y[:, :, i]) + torch.einsum(\"bj,bi->bij\", w, Y[:, :, i])\n",
    "\n",
    "        return dJdX, None"
   ]
  },
  {
   "cell_type": "markdown",
   "id": "607ae94d",
   "metadata": {},
   "source": [
    "### Even Faster Backwards Pass\n",
    "\n",
    "A even faster implementation is possible with some rearranging of terms to reuse and vectorize calculations. Considering only the term involving $E_{ij}$ and observing that $E_{ij} y_k = e_i e_j^T y_k = Y_{jk} e_i$, we have\n",
    "\n",
    "$$\n",
    "\\begin{align*}\n",
    "\t\\sum_{k=1}^{m} v_k^T Y (\\Lambda - \\lambda_{k} I)^{\\dagger} Y^T E_{ij} y_k\n",
    "\t&= \\sum_{k=1}^{m} Y_{jk} v_k^T Y (\\Lambda - \\lambda_{k} I)^{\\dagger} Y^T e_i\n",
    "\t\\\\\n",
    "\t&= \\begin{bmatrix}\n",
    "\t\tY_{j1} & Y_{j2} & \\cdots & Y_{jm}\n",
    "\t\\end{bmatrix} \\begin{bmatrix} \n",
    "\t\tv_1^T Y (\\Lambda - \\lambda_{1} I)^{\\dagger} \\\\\n",
    "\t\tv_2^T Y (\\Lambda - \\lambda_{2} I)^{\\dagger} \\\\\n",
    "\t\t\\vdots \\\\\n",
    "\t\tv_m^T Y (\\Lambda - \\lambda_{m} I)^{\\dagger}\n",
    "\t\\end{bmatrix} Y^T e_i\n",
    "\t\\\\\n",
    "\t&= e_j^T Y \\begin{bmatrix} \n",
    "\t\tv_1^T Y (\\Lambda - \\lambda_{1} I)^{\\dagger} \\\\\n",
    "\t\tv_2^T Y (\\Lambda - \\lambda_{2} I)^{\\dagger} \\\\\n",
    "\t\t\\vdots \\\\\n",
    "\t\tv_m^T Y (\\Lambda - \\lambda_{m} I)^{\\dagger}\n",
    "\t\t\\end{bmatrix} Y^T e_i\n",
    "\t\\\\\n",
    "\t&= e_j^T Y \\left( \\begin{bmatrix}\n",
    "\t\t0 & \\frac{1}{\\lambda_2 - \\lambda_1} & \\cdots & \\frac{1}{\\lambda_m - \\lambda_1} \\\\\n",
    "\t\t\\frac{1}{\\lambda_1 - \\lambda_2} & 0 & \\cdots & \\frac{1}{\\lambda_m - \\lambda_2} \\\\\n",
    "\t\t\\vdots & \\vdots & \\ddots & \\vdots \\\\\n",
    "\t\t\\frac{1}{\\lambda_1 - \\lambda_m} & \\frac{1}{\\lambda_2 - \\lambda_m} & \\ldots & 0 \n",
    "\t \t\\end{bmatrix} \\odot \\begin{bmatrix} \n",
    "\t\tv_1^T Y \\\\\n",
    "\t\tv_2^T Y \\\\\n",
    "\t\t\\vdots \\\\\n",
    "\t\tv_m^T Y\n",
    "\t\\end{bmatrix} \\right) Y^T e_i\n",
    "\t\\\\\n",
    "\t&= e_j^T Y (\\tilde{\\Lambda} \\odot V^T Y) Y^T e_i\n",
    "\\end{align*}\n",
    "$$\n",
    "\n",
    "where $V = \\left[v_1 \\, v_2 \\, \\cdots \\, v_m \\right]$ and $\\tilde{\\Lambda}_{ij} = \\frac{1}{\\lambda_i - \\lambda_j}$ for $i \\neq j$ and zero otherwise. The second last line is because post-multiplying a row vector by a diagonal matrix results in scaling each element of the vector by the corresponding diagonal entry. Thus we can eliminate the explicit for-loop in our backward pass code."
   ]
  },
  {
   "cell_type": "code",
   "execution_count": 5,
   "id": "13b46c83",
   "metadata": {
    "ExecuteTime": {
     "end_time": "2023-10-31T06:59:10.609466Z",
     "start_time": "2023-10-31T06:59:10.595499Z"
    }
   },
   "outputs": [],
   "source": [
    "class EigenDecompositionFcn_v3(torch.autograd.Function):\n",
    "    \"\"\"PyTorch autograd function for eigen decomposition of real symmetric matrices.\n",
    "    The input matrix is made symmetric within the forward evaluation function.\"\"\"\n",
    "\n",
    "    eps = 1.0e-9 # tolerance to consider two eigenvalues equal\n",
    "\n",
    "    @staticmethod\n",
    "    def backward(ctx, dJdY):\n",
    "        lmd, Y = ctx.saved_tensors\n",
    "        B, M, N = dJdY.shape\n",
    "        assert M == N\n",
    "        \n",
    "        zero = torch.zeros(1, dtype=lmd.dtype, device=lmd.device)\n",
    "\n",
    "        # do all eigenvalues in one go\n",
    "        L = lmd.view(B, 1, M) - lmd.view(B, N, 1)\n",
    "        L = torch.where(torch.abs(L) < EigenDecompositionFcn.eps, zero, 1.0 / L)\n",
    "        w = torch.bmm(L * torch.bmm(dJdY.transpose(1, 2), Y), Y.transpose(1, 2))\n",
    "\n",
    "        dJdX = torch.einsum(\"bik,bkj->bji\", Y, w)\n",
    "        dJdX = -0.5 * (dJdX + dJdX.transpose(1, 2))\n",
    "\n",
    "        return dJdX, None"
   ]
  },
  {
   "cell_type": "markdown",
   "id": "33639454",
   "metadata": {},
   "source": [
    "### Yet Even Faster Backward Pass\n",
    "\n",
    "Continuing with some further algebraic manipulation we get\n",
    "\n",
    "$$\n",
    "\\begin{align*}\n",
    "    e_j^T Y (\\tilde{\\Lambda} \\odot V^T Y) Y^T e_i\n",
    "    &= e_i^T Y (\\tilde{\\Lambda}^T \\odot Y^T V) Y^T e_j \\\\\n",
    "    &= \\left(Y (\\tilde{\\Lambda}^T \\odot Y^T V) Y^T \\right)_{ij} \\\\\n",
    "    &= -\\left(Y (\\tilde{\\Lambda} \\odot Y^T V) Y^T \\right)_{ij}\n",
    "\\end{align*}\n",
    "$$\n",
    "\n",
    "Evident from this result is that we can efficiently compute derivatives with respect to all components of $X$ using a single expression, i.e.,\n",
    "\n",
    "$$\n",
    "\\begin{align*}\n",
    "\t\\frac{\\text{d} L}{\\text{d} X} &= \\frac{1}{2} \\left(Y (\\tilde{\\Lambda} \\odot Y^T V) Y^T \\right) + \\frac{1}{2} \\left(Y (\\tilde{\\Lambda} \\odot Y^T V) Y^T \\right)^T\n",
    "\\end{align*}\n",
    "$$\n",
    "\n",
    "The following code implements the full differentiable eigen decomposition PyTorch function with hand-coded backward pass. It is also available as ``EigenDecompositionFcn`` in the ``ddn.pytorch.eigen_decomposition`` module, which also allows for computing just the top-$k$ eigenvalues and corresponding eigenvectors."
   ]
  },
  {
   "cell_type": "code",
   "execution_count": 6,
   "id": "055d12e5",
   "metadata": {
    "ExecuteTime": {
     "end_time": "2023-10-31T06:59:10.625426Z",
     "start_time": "2023-10-31T06:59:10.612478Z"
    }
   },
   "outputs": [],
   "source": [
    "class EigenDecompositionFcn(torch.autograd.Function):\n",
    "    \"\"\"PyTorch autograd function for eigen decomposition of real symmetric matrices.\n",
    "    The input matrix is made symmetric within the forward evaluation function.\"\"\"\n",
    "\n",
    "    eps = 1.0e-9 # tolerance to consider two eigenvalues equal\n",
    "\n",
    "    @staticmethod\n",
    "    def forward(ctx, X):\n",
    "        B, M, N = X.shape\n",
    "        assert N == M\n",
    "\n",
    "        with torch.no_grad():\n",
    "            lmd, Y = torch.linalg.eigh(0.5 * (X + X.transpose(1, 2)))\n",
    "\n",
    "        ctx.save_for_backward(lmd, Y)\n",
    "        return Y\n",
    "\n",
    "    @staticmethod\n",
    "    def backward(ctx, dJdY):\n",
    "        lmd, Y = ctx.saved_tensors\n",
    "        B, M, N = dJdY.shape\n",
    "        assert N == M\n",
    "        \n",
    "        zero = torch.zeros(1, dtype=lmd.dtype, device=lmd.device)\n",
    "        L = lmd.view(B, 1, N) - lmd.view(B, M, 1)\n",
    "        L = torch.where(torch.abs(L) < EigenDecompositionFcn.eps, zero, 1.0 / L)\n",
    "        dJdX = torch.bmm(torch.bmm(Y, L * torch.bmm(Y.transpose(1, 2), dJdY)), Y.transpose(1, 2))\n",
    "\n",
    "        dJdX = 0.5 * (dJdX + dJdX.transpose(1, 2))\n",
    "\n",
    "        return dJdX, None"
   ]
  },
  {
   "cell_type": "markdown",
   "id": "36d1869b",
   "metadata": {},
   "source": [
    "### Profiling\n",
    "\n",
    "We profile the running time and memory required by the various implementations. Our test is to solve the bi-level optimisation problem,\n",
    "\n",
    "$$\n",
    "\\begin{align*}\n",
    "\t\\begin{array}{ll}\n",
    "\t\t\\text{minimize} & |\\textbf{tr}(Y^T Y^{\\text{target}})| \\\\\n",
    "\t\t\\text{subject to} & Y = \\textrm{argmax}_{U} \\; \\textbf{tr} (U^T X U) \\\\\n",
    "        & \\text{subject to} \\; U^T U = I\n",
    "\t\\end{array}\n",
    "\\end{align*}\n",
    "$$\n",
    "\n",
    "by gradient descent for a fixed number of iterations."
   ]
  },
  {
   "cell_type": "code",
   "execution_count": 7,
   "id": "d45dbb3f",
   "metadata": {
    "ExecuteTime": {
     "end_time": "2023-10-31T06:59:11.396653Z",
     "start_time": "2023-10-31T06:59:10.628384Z"
    }
   },
   "outputs": [],
   "source": [
    "import time, os, sys\n",
    "import numpy as np\n",
    "\n",
    "import matplotlib.pyplot as plt\n",
    "plt.rcParams.update({'font.size': 12})\n",
    "\n",
    "import torch\n",
    "\n",
    "torch.backends.cudnn.benchmark = False\n",
    "torch.backends.cudnn.deterministic = True\n",
    "torch.backends.cudnn.enabled = True\n",
    "\n",
    "import torch.autograd.profiler as profiler\n",
    "\n",
    "sys.path.append(\"..\")\n",
    "from ddn.pytorch.eigen_decomposition import EigenDecompositionFcn\n",
    "sys.path.append(\"../tests\")\n",
    "from testEigenDecomposition import EigenDecompositionFcn_v1, EigenDecompositionFcn_v2, EigenDecompositionFcn_v3, speed_memory_test\n",
    "\n",
    "\n",
    "def plot_profiling(device=torch.device(\"cpu\")):\n",
    "    \"\"\"Speed and memory profiling.\"\"\"\n",
    "    data = {}\n",
    "    for f in [EigenDecompositionFcn,\n",
    "              EigenDecompositionFcn_v1,\n",
    "              EigenDecompositionFcn_v2,\n",
    "              EigenDecompositionFcn_v3]:\n",
    "\n",
    "        torch.cuda.empty_cache()\n",
    "        time_fwd, time_bck, mem = speed_memory_test(lambda X: f.apply(X, None),\n",
    "            (5 if device == torch.device('cpu') else 1000, 32),\n",
    "            num_iter_speed=1000, num_iter_memory=5, device=device, dtype=torch.float32)\n",
    "\n",
    "        print(f.__name__, time_fwd, time_bck, mem)\n",
    "        data[f.__name__] = {'time_fwd': time_fwd, 'time_bck': time_bck, 'total_mem': mem}\n",
    "\n",
    "    fig, ax = plt.subplots(1, 1)\n",
    "    b = plt.bar(tuple(range(5)), [data['EigenDecompositionFcn']['time_fwd'],\n",
    "                                  data['EigenDecompositionFcn_v1']['time_bck'],\n",
    "                                  data['EigenDecompositionFcn_v2']['time_bck'],\n",
    "                                  data['EigenDecompositionFcn_v3']['time_bck'],\n",
    "                                  data['EigenDecompositionFcn']['time_bck']],\n",
    "                log=True, color=['r', 'b', 'b', 'b', 'b'])\n",
    "    ax.set_xticks(range(5))\n",
    "    ax.set_xticklabels(['fwd', 'bck (v1)', 'bck (v2)', 'bck (v3)', 'bck (final)'])\n",
    "    \n",
    "    # add counts above the two bar graphs\n",
    "    for rect in b:\n",
    "        height = rect.get_height()\n",
    "        value = height / data['EigenDecompositionFcn']['time_fwd']\n",
    "        plt.text(rect.get_x() + rect.get_width() / 2.0, height, f'{value:0.1f}x', ha='center', va='bottom')\n",
    "\n",
    "    plt.ylabel('log time (ms)')\n",
    "    plt.grid(True); plt.grid(True, which='minor', axis='y', ls='--')\n",
    "    plt.tight_layout()\n",
    "    plt.title(\"Differentiable eigen decomposition implementation comparison on {}\".format(device))"
   ]
  },
  {
   "cell_type": "code",
   "execution_count": 8,
   "id": "514126b8",
   "metadata": {
    "ExecuteTime": {
     "end_time": "2023-10-31T07:00:16.199850Z",
     "start_time": "2023-10-31T06:59:11.402644Z"
    }
   },
   "outputs": [
    {
     "name": "stdout",
     "output_type": "stream",
     "text": [
      "EigenDecompositionFcn 0.5785785785580689 0.3613613609287951 1.9239578247070312\n",
      "EigenDecompositionFcn_v1 0.8518518528083453 39.065065063737535 77.8137378692627\n",
      "EigenDecompositionFcn_v2 0.8278278285754962 10.744744744217089 24.187830924987793\n",
      "EigenDecompositionFcn_v3 0.6126126128102506 0.4984984986364722 2.2254724502563477\n"
     ]
    },
    {
     "data": {
      "image/png": "[encoded data removed]",
      "text/plain": [
       "<Figure size 640x480 with 1 Axes>"
      ]
     },
     "metadata": {},
     "output_type": "display_data"
    }
   ],
   "source": [
    "# profile on cpu\n",
    "plot_profiling(torch.device(\"cpu\"))\n",
    "plt.show()"
   ]
  },
  {
   "cell_type": "code",
   "execution_count": 9,
   "id": "3514dbcc",
   "metadata": {
    "ExecuteTime": {
     "end_time": "2023-10-31T07:00:16.215226Z",
     "start_time": "2023-10-31T07:00:16.202144Z"
    }
   },
   "outputs": [],
   "source": [
    "# profile on gpu\n",
    "if torch.cuda.is_available():\n",
    "    plot_profiling(torch.device(\"cuda\"))\n",
    "    plt.show()"
   ]
  }
 ],
 "metadata": {
  "kernelspec": {
   "display_name": "Python 3 (ipykernel)",
   "language": "python",
   "name": "python3"
  },
  "language_info": {
   "codemirror_mode": {
    "name": "ipython",
    "version": 3
   },
   "file_extension": ".py",
   "mimetype": "text/x-python",
   "name": "python",
   "nbconvert_exporter": "python",
   "pygments_lexer": "ipython3",
   "version": "3.9.13"
  }
 },
 "nbformat": 4,
 "nbformat_minor": 5
}
